{
 "cells": [
  {
   "cell_type": "markdown",
   "id": "b1c5ccfa",
   "metadata": {},
   "source": [
    "# Assignment 2"
   ]
  },
  {
   "cell_type": "code",
   "execution_count": null,
   "id": "44ee4877",
   "metadata": {},
   "outputs": [],
   "source": [
    "1.\tWrite a Python program to convert kilometers to miles?"
   ]
  },
  {
   "cell_type": "code",
   "execution_count": 9,
   "id": "482c6243",
   "metadata": {},
   "outputs": [],
   "source": [
    "miles = 1.60\n",
    "def km_to_mile_conversion(km):\n",
    "    try:\n",
    "        new_miles=km/miles\n",
    "        print(\"kms into miles is:\",new_miles)\n",
    "    except Exception as e:\n",
    "        print(e, \"please enter integer or float as input\")"
   ]
  },
  {
   "cell_type": "code",
   "execution_count": 10,
   "id": "51eeade9",
   "metadata": {},
   "outputs": [
    {
     "name": "stdout",
     "output_type": "stream",
     "text": [
      "kms into miles is: 12.5\n"
     ]
    }
   ],
   "source": [
    "km_to_mile_conversion(20)"
   ]
  },
  {
   "cell_type": "code",
   "execution_count": 13,
   "id": "06ac3d48",
   "metadata": {},
   "outputs": [
    {
     "name": "stdout",
     "output_type": "stream",
     "text": [
      "unsupported operand type(s) for /: 'str' and 'float' please enter integer or float as input\n"
     ]
    }
   ],
   "source": [
    "km_to_mile_conversion(\"hh\")"
   ]
  },
  {
   "cell_type": "code",
   "execution_count": null,
   "id": "97b82513",
   "metadata": {},
   "outputs": [],
   "source": [
    "2.\tWrite a Python program to convert Celsius to Fahrenheit?"
   ]
  },
  {
   "cell_type": "code",
   "execution_count": 11,
   "id": "c0f5b684",
   "metadata": {},
   "outputs": [],
   "source": [
    "def Celsius_to_Fahrenheit(celsius):\n",
    "    try:\n",
    "        fahren=(celsius*1.8)+32\n",
    "        print(f\"after conversion {fahren}\")\n",
    "    except Exception as e:\n",
    "        print(e,\"enter integer or float as input\")"
   ]
  },
  {
   "cell_type": "code",
   "execution_count": 14,
   "id": "33c2ea95",
   "metadata": {},
   "outputs": [
    {
     "name": "stdout",
     "output_type": "stream",
     "text": [
      "after conversion 77.0\n"
     ]
    }
   ],
   "source": [
    "Celsius_to_Fahrenheit(25)"
   ]
  },
  {
   "cell_type": "code",
   "execution_count": 15,
   "id": "9e5b9453",
   "metadata": {},
   "outputs": [
    {
     "name": "stdout",
     "output_type": "stream",
     "text": [
      "can't multiply sequence by non-int of type 'float' enter integer or float as input\n"
     ]
    }
   ],
   "source": [
    "Celsius_to_Fahrenheit(\"ff\")"
   ]
  },
  {
   "cell_type": "code",
   "execution_count": null,
   "id": "1d1c08ee",
   "metadata": {},
   "outputs": [],
   "source": [
    "3.\tWrite a Python program to display calendar?"
   ]
  },
  {
   "cell_type": "code",
   "execution_count": 12,
   "id": "e07f51de",
   "metadata": {},
   "outputs": [
    {
     "name": "stdout",
     "output_type": "stream",
     "text": [
      "                                  2022\n",
      "\n",
      "      January                   February                   March\n",
      "Mo Tu We Th Fr Sa Su      Mo Tu We Th Fr Sa Su      Mo Tu We Th Fr Sa Su\n",
      "                1  2          1  2  3  4  5  6          1  2  3  4  5  6\n",
      " 3  4  5  6  7  8  9       7  8  9 10 11 12 13       7  8  9 10 11 12 13\n",
      "10 11 12 13 14 15 16      14 15 16 17 18 19 20      14 15 16 17 18 19 20\n",
      "17 18 19 20 21 22 23      21 22 23 24 25 26 27      21 22 23 24 25 26 27\n",
      "24 25 26 27 28 29 30      28                        28 29 30 31\n",
      "31\n",
      "\n",
      "       April                      May                       June\n",
      "Mo Tu We Th Fr Sa Su      Mo Tu We Th Fr Sa Su      Mo Tu We Th Fr Sa Su\n",
      "             1  2  3                         1             1  2  3  4  5\n",
      " 4  5  6  7  8  9 10       2  3  4  5  6  7  8       6  7  8  9 10 11 12\n",
      "11 12 13 14 15 16 17       9 10 11 12 13 14 15      13 14 15 16 17 18 19\n",
      "18 19 20 21 22 23 24      16 17 18 19 20 21 22      20 21 22 23 24 25 26\n",
      "25 26 27 28 29 30         23 24 25 26 27 28 29      27 28 29 30\n",
      "                          30 31\n",
      "\n",
      "        July                     August                  September\n",
      "Mo Tu We Th Fr Sa Su      Mo Tu We Th Fr Sa Su      Mo Tu We Th Fr Sa Su\n",
      "             1  2  3       1  2  3  4  5  6  7                1  2  3  4\n",
      " 4  5  6  7  8  9 10       8  9 10 11 12 13 14       5  6  7  8  9 10 11\n",
      "11 12 13 14 15 16 17      15 16 17 18 19 20 21      12 13 14 15 16 17 18\n",
      "18 19 20 21 22 23 24      22 23 24 25 26 27 28      19 20 21 22 23 24 25\n",
      "25 26 27 28 29 30 31      29 30 31                  26 27 28 29 30\n",
      "\n",
      "      October                   November                  December\n",
      "Mo Tu We Th Fr Sa Su      Mo Tu We Th Fr Sa Su      Mo Tu We Th Fr Sa Su\n",
      "                1  2          1  2  3  4  5  6                1  2  3  4\n",
      " 3  4  5  6  7  8  9       7  8  9 10 11 12 13       5  6  7  8  9 10 11\n",
      "10 11 12 13 14 15 16      14 15 16 17 18 19 20      12 13 14 15 16 17 18\n",
      "17 18 19 20 21 22 23      21 22 23 24 25 26 27      19 20 21 22 23 24 25\n",
      "24 25 26 27 28 29 30      28 29 30                  26 27 28 29 30 31\n",
      "31\n",
      "\n"
     ]
    }
   ],
   "source": [
    "import calendar\n",
    "print(calendar.calendar(2022))"
   ]
  },
  {
   "cell_type": "code",
   "execution_count": null,
   "id": "bfb5912e",
   "metadata": {},
   "outputs": [],
   "source": [
    "4.\tWrite a Python program to solve quadratic equation?"
   ]
  },
  {
   "cell_type": "code",
   "execution_count": 6,
   "id": "5a5e9f20",
   "metadata": {},
   "outputs": [],
   "source": [
    "import cmath #importing package for complex number\n",
    "import math #importing package for mathematical functions\n",
    "def quad_eqn(a,b,c):\n",
    "    try:\n",
    "        #disc means discriment of the eqn\n",
    "        disc=b*b-4*a*c\n",
    "        \n",
    "        if disc==0:\n",
    "            root_1= -b/2*a\n",
    "            root_2= -b/2*a\n",
    "            print(f'roots are real and gives only one solution {root_1,root_2}')\n",
    "        elif disc>0:\n",
    "            root_1=(-b+math.sqrt(disc))/(2*a)\n",
    "            root_2=(-b+math.sqrt(disc))/(2*a)\n",
    "            print(f'roots are real and distinct {root_1,root_2}')\n",
    "        else :\n",
    "            root_1 =(-b + cmath.sqrt(disc))/(2*a)\n",
    "            root_2 =(-b + cmath.sqrt(disc))/(2*a)\n",
    "            print(f'roots are imaganiry {root_1,root_2}')\n",
    "    except Exception as e:\n",
    "        print(e)"
   ]
  },
  {
   "cell_type": "code",
   "execution_count": 7,
   "id": "4b3a552b",
   "metadata": {},
   "outputs": [
    {
     "name": "stdout",
     "output_type": "stream",
     "text": [
      "roots are imaganiry ((-0.75+1.1989578808281798j), (-0.75+1.1989578808281798j))\n"
     ]
    }
   ],
   "source": [
    "quad_eqn(2,3,4)"
   ]
  },
  {
   "cell_type": "code",
   "execution_count": null,
   "id": "c134fe74",
   "metadata": {},
   "outputs": [],
   "source": [
    "5.\tWrite a Python program to swap two variables without temp variable?"
   ]
  },
  {
   "cell_type": "code",
   "execution_count": 16,
   "id": "2b22371c",
   "metadata": {},
   "outputs": [
    {
     "name": "stdout",
     "output_type": "stream",
     "text": [
      "enter the integer number : 2\n",
      "enter the integer number : 3\n",
      "before swaping of num_1 :  2\n",
      "before swaping of num_2 :  3\n",
      "after swaping of num_1 :  3\n",
      "after swaping of num_2 :  2\n"
     ]
    }
   ],
   "source": [
    "num_1 = int(input(\"enter the integer number : \"))\n",
    "num_2 = int(input(\"enter the integer number : \"))\n",
    "\n",
    "print(\"before swaping of num_1 : \",num_1)\n",
    "print(\"before swaping of num_2 : \",num_2)\n",
    "\n",
    "num_1, num_2 = num_2,num_1\n",
    "\n",
    "\n",
    "print(\"after swaping of num_1 : \",num_1)\n",
    "print(\"after swaping of num_2 : \",num_2)"
   ]
  },
  {
   "cell_type": "code",
   "execution_count": null,
   "id": "d81a712b",
   "metadata": {},
   "outputs": [],
   "source": []
  }
 ],
 "metadata": {
  "kernelspec": {
   "display_name": "Python 3 (ipykernel)",
   "language": "python",
   "name": "python3"
  },
  "language_info": {
   "codemirror_mode": {
    "name": "ipython",
    "version": 3
   },
   "file_extension": ".py",
   "mimetype": "text/x-python",
   "name": "python",
   "nbconvert_exporter": "python",
   "pygments_lexer": "ipython3",
   "version": "3.9.7"
  }
 },
 "nbformat": 4,
 "nbformat_minor": 5
}
