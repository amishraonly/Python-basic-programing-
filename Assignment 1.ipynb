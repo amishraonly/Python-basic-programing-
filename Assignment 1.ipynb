{
 "cells": [
  {
   "cell_type": "markdown",
   "id": "4b431654",
   "metadata": {},
   "source": [
    "# Assignment 1"
   ]
  },
  {
   "cell_type": "markdown",
   "id": "8e6dc2a5",
   "metadata": {},
   "source": [
    "#Write a Python program to print \"Hello Python\"?"
   ]
  },
  {
   "cell_type": "code",
   "execution_count": 54,
   "id": "f7bac7aa",
   "metadata": {},
   "outputs": [
    {
     "name": "stdout",
     "output_type": "stream",
     "text": [
      "Hello Python\n"
     ]
    }
   ],
   "source": [
    "print (\"Hello Python\")"
   ]
  },
  {
   "cell_type": "markdown",
   "id": "5411db7f",
   "metadata": {},
   "source": [
    "#Write a Python program to do arithmetical operations addition and division.?"
   ]
  },
  {
   "cell_type": "code",
   "execution_count": 56,
   "id": "e1a62eca",
   "metadata": {},
   "outputs": [],
   "source": [
    "\n",
    "def add(a,b):\n",
    "        try:\n",
    "            c=a+b\n",
    "            return c\n",
    "        except Exception as e:\n",
    "            print (e, \"arey bhai mazak kyu kar rhe ho yaar!!\")\n",
    "def div (a,b):\n",
    "        try:\n",
    "            d=a/b\n",
    "            return d\n",
    "        except Exception as e:\n",
    "            print (e, \"arey bhai mazak kyu kar rhe ho yaar!!\")"
   ]
  },
  {
   "cell_type": "code",
   "execution_count": 18,
   "id": "17bb1f0d",
   "metadata": {},
   "outputs": [
    {
     "data": {
      "text/plain": [
       "5"
      ]
     },
     "execution_count": 18,
     "metadata": {},
     "output_type": "execute_result"
    }
   ],
   "source": [
    "add(2,3)"
   ]
  },
  {
   "cell_type": "code",
   "execution_count": 36,
   "id": "9e97804a",
   "metadata": {},
   "outputs": [
    {
     "name": "stdout",
     "output_type": "stream",
     "text": [
      "division by zero arey bhai mazak kyu kar rhe ho yaar!!\n"
     ]
    }
   ],
   "source": [
    "div(5,0)"
   ]
  },
  {
   "cell_type": "markdown",
   "id": "a23cb07e",
   "metadata": {},
   "source": [
    "#Write a Python program to find the area of a triangle?\n"
   ]
  },
  {
   "cell_type": "code",
   "execution_count": 57,
   "id": "299adf86",
   "metadata": {},
   "outputs": [],
   "source": [
    "def area_tri(base,height):\n",
    "    try:\n",
    "        area_of_triangle=1/2*(base*height)\n",
    "        print(\"area of the triangle is\",area_of_triangle)\n",
    "    except Exception as e:\n",
    "        print (e,\"Error in value\")"
   ]
  },
  {
   "cell_type": "code",
   "execution_count": 44,
   "id": "749b1eee",
   "metadata": {},
   "outputs": [
    {
     "name": "stdout",
     "output_type": "stream",
     "text": [
      "can't multiply sequence by non-int of type 'float' Error in value\n"
     ]
    }
   ],
   "source": [
    "area_tri(\"hdsafcj\",0)"
   ]
  },
  {
   "cell_type": "markdown",
   "id": "a3b2f217",
   "metadata": {},
   "source": [
    "#Write a Python program to swap two variables?\n"
   ]
  },
  {
   "cell_type": "code",
   "execution_count": 58,
   "id": "3bb4a1ad",
   "metadata": {},
   "outputs": [],
   "source": [
    "def swap(a,b):\n",
    "    try:\n",
    "        a,b = b,a\n",
    "        print(\"swaped value is:\",a,b)\n",
    "    except Exception as e:\n",
    "            print (e)"
   ]
  },
  {
   "cell_type": "code",
   "execution_count": 48,
   "id": "37791d04",
   "metadata": {},
   "outputs": [
    {
     "name": "stdout",
     "output_type": "stream",
     "text": [
      "swaped value is: 3 2\n"
     ]
    }
   ],
   "source": [
    "swap(2,3)"
   ]
  },
  {
   "cell_type": "markdown",
   "id": "b4b32d99",
   "metadata": {},
   "source": [
    "#Write a Python program to generate a random number?\n"
   ]
  },
  {
   "cell_type": "code",
   "execution_count": 59,
   "id": "279172e8",
   "metadata": {},
   "outputs": [],
   "source": [
    "import numpy as np"
   ]
  },
  {
   "cell_type": "code",
   "execution_count": 52,
   "id": "377d1305",
   "metadata": {},
   "outputs": [],
   "source": [
    "random_number= np.random.randint(100)"
   ]
  },
  {
   "cell_type": "code",
   "execution_count": 53,
   "id": "a7fee62f",
   "metadata": {},
   "outputs": [
    {
     "data": {
      "text/plain": [
       "32"
      ]
     },
     "execution_count": 53,
     "metadata": {},
     "output_type": "execute_result"
    }
   ],
   "source": [
    "random_number"
   ]
  },
  {
   "cell_type": "code",
   "execution_count": null,
   "id": "1cc9fcc2",
   "metadata": {},
   "outputs": [],
   "source": []
  }
 ],
 "metadata": {
  "kernelspec": {
   "display_name": "Python 3 (ipykernel)",
   "language": "python",
   "name": "python3"
  },
  "language_info": {
   "codemirror_mode": {
    "name": "ipython",
    "version": 3
   },
   "file_extension": ".py",
   "mimetype": "text/x-python",
   "name": "python",
   "nbconvert_exporter": "python",
   "pygments_lexer": "ipython3",
   "version": "3.9.7"
  }
 },
 "nbformat": 4,
 "nbformat_minor": 5
}
